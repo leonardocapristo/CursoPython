{
 "cells": [
  {
   "cell_type": "code",
   "execution_count": 19,
   "id": "90f036e9-3a57-45cc-8465-c01050bc3e02",
   "metadata": {},
   "outputs": [],
   "source": [
    "from numpy.random import randn\n",
    "import pandas as pd"
   ]
  },
  {
   "cell_type": "markdown",
   "id": "1251e7fc-4605-4720-b6e0-efd3aa1f5a53",
   "metadata": {},
   "source": [
    "## Criando Dataframe (não é importante)"
   ]
  },
  {
   "cell_type": "code",
   "execution_count": 21,
   "id": "74ca6736-7a6c-44d6-b4da-0faf11641b16",
   "metadata": {},
   "outputs": [],
   "source": [
    "df = pd.DataFrame(randn(5, 4), index=[\"A\", \"B\", \"C\", \"D\", \"E\"], columns=\"w x y z\".split())\n"
   ]
  },
  {
   "cell_type": "code",
   "execution_count": 23,
   "id": "b554d734-aa6e-41c0-9fed-576db9b7e396",
   "metadata": {},
   "outputs": [
    {
     "data": {
      "text/html": [
       "<div>\n",
       "<style scoped>\n",
       "    .dataframe tbody tr th:only-of-type {\n",
       "        vertical-align: middle;\n",
       "    }\n",
       "\n",
       "    .dataframe tbody tr th {\n",
       "        vertical-align: top;\n",
       "    }\n",
       "\n",
       "    .dataframe thead th {\n",
       "        text-align: right;\n",
       "    }\n",
       "</style>\n",
       "<table border=\"1\" class=\"dataframe\">\n",
       "  <thead>\n",
       "    <tr style=\"text-align: right;\">\n",
       "      <th></th>\n",
       "      <th>w</th>\n",
       "      <th>x</th>\n",
       "      <th>y</th>\n",
       "      <th>z</th>\n",
       "    </tr>\n",
       "  </thead>\n",
       "  <tbody>\n",
       "    <tr>\n",
       "      <th>A</th>\n",
       "      <td>1.526281</td>\n",
       "      <td>0.090664</td>\n",
       "      <td>1.834460</td>\n",
       "      <td>0.729443</td>\n",
       "    </tr>\n",
       "    <tr>\n",
       "      <th>B</th>\n",
       "      <td>0.953009</td>\n",
       "      <td>0.836132</td>\n",
       "      <td>1.003379</td>\n",
       "      <td>-0.610108</td>\n",
       "    </tr>\n",
       "    <tr>\n",
       "      <th>C</th>\n",
       "      <td>-0.653620</td>\n",
       "      <td>1.873208</td>\n",
       "      <td>0.490749</td>\n",
       "      <td>-2.169100</td>\n",
       "    </tr>\n",
       "    <tr>\n",
       "      <th>D</th>\n",
       "      <td>0.525842</td>\n",
       "      <td>-1.398341</td>\n",
       "      <td>-1.215074</td>\n",
       "      <td>-0.699342</td>\n",
       "    </tr>\n",
       "    <tr>\n",
       "      <th>E</th>\n",
       "      <td>-0.598426</td>\n",
       "      <td>0.506044</td>\n",
       "      <td>-0.613979</td>\n",
       "      <td>0.034328</td>\n",
       "    </tr>\n",
       "  </tbody>\n",
       "</table>\n",
       "</div>"
      ],
      "text/plain": [
       "          w         x         y         z\n",
       "A  1.526281  0.090664  1.834460  0.729443\n",
       "B  0.953009  0.836132  1.003379 -0.610108\n",
       "C -0.653620  1.873208  0.490749 -2.169100\n",
       "D  0.525842 -1.398341 -1.215074 -0.699342\n",
       "E -0.598426  0.506044 -0.613979  0.034328"
      ]
     },
     "execution_count": 23,
     "metadata": {},
     "output_type": "execute_result"
    }
   ],
   "source": [
    "df"
   ]
  },
  {
   "cell_type": "code",
   "execution_count": 25,
   "id": "ec55ce30-da6f-48b2-a46f-2fbe2ee19682",
   "metadata": {},
   "outputs": [
    {
     "data": {
      "text/plain": [
       "pandas.core.frame.DataFrame"
      ]
     },
     "execution_count": 25,
     "metadata": {},
     "output_type": "execute_result"
    }
   ],
   "source": [
    "type(df)"
   ]
  },
  {
   "cell_type": "markdown",
   "id": "ab1709ec-b9c7-49fe-879f-36392a1e3357",
   "metadata": {},
   "source": [
    "## Verificando colunas selecionadas"
   ]
  },
  {
   "cell_type": "code",
   "execution_count": 29,
   "id": "d577c363-55e4-4e4d-a397-73e3df77c131",
   "metadata": {
    "scrolled": true
   },
   "outputs": [
    {
     "data": {
      "text/html": [
       "<div>\n",
       "<style scoped>\n",
       "    .dataframe tbody tr th:only-of-type {\n",
       "        vertical-align: middle;\n",
       "    }\n",
       "\n",
       "    .dataframe tbody tr th {\n",
       "        vertical-align: top;\n",
       "    }\n",
       "\n",
       "    .dataframe thead th {\n",
       "        text-align: right;\n",
       "    }\n",
       "</style>\n",
       "<table border=\"1\" class=\"dataframe\">\n",
       "  <thead>\n",
       "    <tr style=\"text-align: right;\">\n",
       "      <th></th>\n",
       "      <th>w</th>\n",
       "      <th>y</th>\n",
       "    </tr>\n",
       "  </thead>\n",
       "  <tbody>\n",
       "    <tr>\n",
       "      <th>A</th>\n",
       "      <td>1.526281</td>\n",
       "      <td>1.834460</td>\n",
       "    </tr>\n",
       "    <tr>\n",
       "      <th>B</th>\n",
       "      <td>0.953009</td>\n",
       "      <td>1.003379</td>\n",
       "    </tr>\n",
       "    <tr>\n",
       "      <th>C</th>\n",
       "      <td>-0.653620</td>\n",
       "      <td>0.490749</td>\n",
       "    </tr>\n",
       "    <tr>\n",
       "      <th>D</th>\n",
       "      <td>0.525842</td>\n",
       "      <td>-1.215074</td>\n",
       "    </tr>\n",
       "    <tr>\n",
       "      <th>E</th>\n",
       "      <td>-0.598426</td>\n",
       "      <td>-0.613979</td>\n",
       "    </tr>\n",
       "  </tbody>\n",
       "</table>\n",
       "</div>"
      ],
      "text/plain": [
       "          w         y\n",
       "A  1.526281  1.834460\n",
       "B  0.953009  1.003379\n",
       "C -0.653620  0.490749\n",
       "D  0.525842 -1.215074\n",
       "E -0.598426 -0.613979"
      ]
     },
     "execution_count": 29,
     "metadata": {},
     "output_type": "execute_result"
    }
   ],
   "source": [
    "df[[\"w\",\"y\"]]"
   ]
  },
  {
   "cell_type": "markdown",
   "id": "61fda53d-d6b3-4dff-b71c-763bf8801b7d",
   "metadata": {},
   "source": [
    "## Adicionando uma coluna  com o valor de soma de outras duas"
   ]
  },
  {
   "cell_type": "code",
   "execution_count": 31,
   "id": "e131035a-1d2d-496b-b946-19fcdf770b25",
   "metadata": {},
   "outputs": [],
   "source": [
    "df[\"new\"] = df['w'] + df['y']"
   ]
  },
  {
   "cell_type": "code",
   "execution_count": 33,
   "id": "1572d537-2513-4cf2-99bd-7c1c892f821f",
   "metadata": {},
   "outputs": [
    {
     "data": {
      "text/html": [
       "<div>\n",
       "<style scoped>\n",
       "    .dataframe tbody tr th:only-of-type {\n",
       "        vertical-align: middle;\n",
       "    }\n",
       "\n",
       "    .dataframe tbody tr th {\n",
       "        vertical-align: top;\n",
       "    }\n",
       "\n",
       "    .dataframe thead th {\n",
       "        text-align: right;\n",
       "    }\n",
       "</style>\n",
       "<table border=\"1\" class=\"dataframe\">\n",
       "  <thead>\n",
       "    <tr style=\"text-align: right;\">\n",
       "      <th></th>\n",
       "      <th>w</th>\n",
       "      <th>x</th>\n",
       "      <th>y</th>\n",
       "      <th>z</th>\n",
       "      <th>new</th>\n",
       "    </tr>\n",
       "  </thead>\n",
       "  <tbody>\n",
       "    <tr>\n",
       "      <th>A</th>\n",
       "      <td>1.526281</td>\n",
       "      <td>0.090664</td>\n",
       "      <td>1.834460</td>\n",
       "      <td>0.729443</td>\n",
       "      <td>3.360741</td>\n",
       "    </tr>\n",
       "    <tr>\n",
       "      <th>B</th>\n",
       "      <td>0.953009</td>\n",
       "      <td>0.836132</td>\n",
       "      <td>1.003379</td>\n",
       "      <td>-0.610108</td>\n",
       "      <td>1.956388</td>\n",
       "    </tr>\n",
       "    <tr>\n",
       "      <th>C</th>\n",
       "      <td>-0.653620</td>\n",
       "      <td>1.873208</td>\n",
       "      <td>0.490749</td>\n",
       "      <td>-2.169100</td>\n",
       "      <td>-0.162871</td>\n",
       "    </tr>\n",
       "    <tr>\n",
       "      <th>D</th>\n",
       "      <td>0.525842</td>\n",
       "      <td>-1.398341</td>\n",
       "      <td>-1.215074</td>\n",
       "      <td>-0.699342</td>\n",
       "      <td>-0.689232</td>\n",
       "    </tr>\n",
       "    <tr>\n",
       "      <th>E</th>\n",
       "      <td>-0.598426</td>\n",
       "      <td>0.506044</td>\n",
       "      <td>-0.613979</td>\n",
       "      <td>0.034328</td>\n",
       "      <td>-1.212405</td>\n",
       "    </tr>\n",
       "  </tbody>\n",
       "</table>\n",
       "</div>"
      ],
      "text/plain": [
       "          w         x         y         z       new\n",
       "A  1.526281  0.090664  1.834460  0.729443  3.360741\n",
       "B  0.953009  0.836132  1.003379 -0.610108  1.956388\n",
       "C -0.653620  1.873208  0.490749 -2.169100 -0.162871\n",
       "D  0.525842 -1.398341 -1.215074 -0.699342 -0.689232\n",
       "E -0.598426  0.506044 -0.613979  0.034328 -1.212405"
      ]
     },
     "execution_count": 33,
     "metadata": {},
     "output_type": "execute_result"
    }
   ],
   "source": [
    "df"
   ]
  },
  {
   "cell_type": "markdown",
   "id": "1fb322ba-00ab-43a0-8939-fd70462d1566",
   "metadata": {},
   "source": [
    "## apagando uma coluna"
   ]
  },
  {
   "cell_type": "code",
   "execution_count": 35,
   "id": "6f147090-7842-46dd-8dca-71b255355510",
   "metadata": {},
   "outputs": [],
   "source": [
    "del df[\"new\"]"
   ]
  },
  {
   "cell_type": "code",
   "execution_count": 37,
   "id": "c694b21f-35cd-41ea-bdcd-65eccc0358c1",
   "metadata": {},
   "outputs": [
    {
     "data": {
      "text/html": [
       "<div>\n",
       "<style scoped>\n",
       "    .dataframe tbody tr th:only-of-type {\n",
       "        vertical-align: middle;\n",
       "    }\n",
       "\n",
       "    .dataframe tbody tr th {\n",
       "        vertical-align: top;\n",
       "    }\n",
       "\n",
       "    .dataframe thead th {\n",
       "        text-align: right;\n",
       "    }\n",
       "</style>\n",
       "<table border=\"1\" class=\"dataframe\">\n",
       "  <thead>\n",
       "    <tr style=\"text-align: right;\">\n",
       "      <th></th>\n",
       "      <th>w</th>\n",
       "      <th>x</th>\n",
       "      <th>y</th>\n",
       "      <th>z</th>\n",
       "    </tr>\n",
       "  </thead>\n",
       "  <tbody>\n",
       "    <tr>\n",
       "      <th>A</th>\n",
       "      <td>1.526281</td>\n",
       "      <td>0.090664</td>\n",
       "      <td>1.834460</td>\n",
       "      <td>0.729443</td>\n",
       "    </tr>\n",
       "    <tr>\n",
       "      <th>B</th>\n",
       "      <td>0.953009</td>\n",
       "      <td>0.836132</td>\n",
       "      <td>1.003379</td>\n",
       "      <td>-0.610108</td>\n",
       "    </tr>\n",
       "    <tr>\n",
       "      <th>C</th>\n",
       "      <td>-0.653620</td>\n",
       "      <td>1.873208</td>\n",
       "      <td>0.490749</td>\n",
       "      <td>-2.169100</td>\n",
       "    </tr>\n",
       "    <tr>\n",
       "      <th>D</th>\n",
       "      <td>0.525842</td>\n",
       "      <td>-1.398341</td>\n",
       "      <td>-1.215074</td>\n",
       "      <td>-0.699342</td>\n",
       "    </tr>\n",
       "    <tr>\n",
       "      <th>E</th>\n",
       "      <td>-0.598426</td>\n",
       "      <td>0.506044</td>\n",
       "      <td>-0.613979</td>\n",
       "      <td>0.034328</td>\n",
       "    </tr>\n",
       "  </tbody>\n",
       "</table>\n",
       "</div>"
      ],
      "text/plain": [
       "          w         x         y         z\n",
       "A  1.526281  0.090664  1.834460  0.729443\n",
       "B  0.953009  0.836132  1.003379 -0.610108\n",
       "C -0.653620  1.873208  0.490749 -2.169100\n",
       "D  0.525842 -1.398341 -1.215074 -0.699342\n",
       "E -0.598426  0.506044 -0.613979  0.034328"
      ]
     },
     "execution_count": 37,
     "metadata": {},
     "output_type": "execute_result"
    }
   ],
   "source": [
    "df"
   ]
  },
  {
   "cell_type": "markdown",
   "id": "6c9b4ded-06de-4dce-b8d5-f652cd96133f",
   "metadata": {},
   "source": [
    "## Selecionando uma ou mais linhas"
   ]
  },
  {
   "cell_type": "code",
   "execution_count": 39,
   "id": "ec8dce9b-5d64-4c9e-addb-2eb62eb74536",
   "metadata": {},
   "outputs": [
    {
     "data": {
      "text/plain": [
       "w    1.526281\n",
       "x    0.090664\n",
       "y    1.834460\n",
       "z    0.729443\n",
       "Name: A, dtype: float64"
      ]
     },
     "execution_count": 39,
     "metadata": {},
     "output_type": "execute_result"
    }
   ],
   "source": [
    "df.loc[\"A\"]"
   ]
  },
  {
   "cell_type": "code",
   "execution_count": 43,
   "id": "e7badd9b-b79c-461f-9681-c2fba88b5896",
   "metadata": {},
   "outputs": [
    {
     "data": {
      "text/html": [
       "<div>\n",
       "<style scoped>\n",
       "    .dataframe tbody tr th:only-of-type {\n",
       "        vertical-align: middle;\n",
       "    }\n",
       "\n",
       "    .dataframe tbody tr th {\n",
       "        vertical-align: top;\n",
       "    }\n",
       "\n",
       "    .dataframe thead th {\n",
       "        text-align: right;\n",
       "    }\n",
       "</style>\n",
       "<table border=\"1\" class=\"dataframe\">\n",
       "  <thead>\n",
       "    <tr style=\"text-align: right;\">\n",
       "      <th></th>\n",
       "      <th>w</th>\n",
       "      <th>x</th>\n",
       "      <th>y</th>\n",
       "      <th>z</th>\n",
       "    </tr>\n",
       "  </thead>\n",
       "  <tbody>\n",
       "    <tr>\n",
       "      <th>A</th>\n",
       "      <td>1.526281</td>\n",
       "      <td>0.090664</td>\n",
       "      <td>1.834460</td>\n",
       "      <td>0.729443</td>\n",
       "    </tr>\n",
       "    <tr>\n",
       "      <th>B</th>\n",
       "      <td>0.953009</td>\n",
       "      <td>0.836132</td>\n",
       "      <td>1.003379</td>\n",
       "      <td>-0.610108</td>\n",
       "    </tr>\n",
       "  </tbody>\n",
       "</table>\n",
       "</div>"
      ],
      "text/plain": [
       "          w         x         y         z\n",
       "A  1.526281  0.090664  1.834460  0.729443\n",
       "B  0.953009  0.836132  1.003379 -0.610108"
      ]
     },
     "execution_count": 43,
     "metadata": {},
     "output_type": "execute_result"
    }
   ],
   "source": [
    "df.loc[[\"A\",\"B\"]]"
   ]
  },
  {
   "cell_type": "code",
   "execution_count": null,
   "id": "c2d889f6-b78e-45d6-82cd-1f832c168edf",
   "metadata": {},
   "outputs": [],
   "source": []
  }
 ],
 "metadata": {
  "kernelspec": {
   "display_name": "Python 3 (ipykernel)",
   "language": "python",
   "name": "python3"
  },
  "language_info": {
   "codemirror_mode": {
    "name": "ipython",
    "version": 3
   },
   "file_extension": ".py",
   "mimetype": "text/x-python",
   "name": "python",
   "nbconvert_exporter": "python",
   "pygments_lexer": "ipython3",
   "version": "3.12.4"
  }
 },
 "nbformat": 4,
 "nbformat_minor": 5
}
