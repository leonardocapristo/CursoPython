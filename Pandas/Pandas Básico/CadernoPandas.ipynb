{
 "cells": [
  {
   "cell_type": "code",
   "execution_count": 3,
   "id": "90f036e9-3a57-45cc-8465-c01050bc3e02",
   "metadata": {},
   "outputs": [],
   "source": [
    "from numpy.random import randn\n",
    "import pandas as pd"
   ]
  },
  {
   "cell_type": "markdown",
   "id": "1251e7fc-4605-4720-b6e0-efd3aa1f5a53",
   "metadata": {},
   "source": [
    "## Criando Dataframe (não é importante)"
   ]
  },
  {
   "cell_type": "code",
   "execution_count": 5,
   "id": "74ca6736-7a6c-44d6-b4da-0faf11641b16",
   "metadata": {},
   "outputs": [],
   "source": [
    "df = pd.DataFrame(randn(5, 4), index=[\"A\", \"B\", \"C\", \"D\", \"E\"], columns=\"w x y z\".split())\n"
   ]
  },
  {
   "cell_type": "code",
   "execution_count": 6,
   "id": "b554d734-aa6e-41c0-9fed-576db9b7e396",
   "metadata": {},
   "outputs": [
    {
     "data": {
      "text/html": [
       "<div>\n",
       "<style scoped>\n",
       "    .dataframe tbody tr th:only-of-type {\n",
       "        vertical-align: middle;\n",
       "    }\n",
       "\n",
       "    .dataframe tbody tr th {\n",
       "        vertical-align: top;\n",
       "    }\n",
       "\n",
       "    .dataframe thead th {\n",
       "        text-align: right;\n",
       "    }\n",
       "</style>\n",
       "<table border=\"1\" class=\"dataframe\">\n",
       "  <thead>\n",
       "    <tr style=\"text-align: right;\">\n",
       "      <th></th>\n",
       "      <th>w</th>\n",
       "      <th>x</th>\n",
       "      <th>y</th>\n",
       "      <th>z</th>\n",
       "    </tr>\n",
       "  </thead>\n",
       "  <tbody>\n",
       "    <tr>\n",
       "      <th>A</th>\n",
       "      <td>-0.899907</td>\n",
       "      <td>-0.753668</td>\n",
       "      <td>0.249725</td>\n",
       "      <td>0.593019</td>\n",
       "    </tr>\n",
       "    <tr>\n",
       "      <th>B</th>\n",
       "      <td>-0.918375</td>\n",
       "      <td>-1.035986</td>\n",
       "      <td>-0.182251</td>\n",
       "      <td>0.204457</td>\n",
       "    </tr>\n",
       "    <tr>\n",
       "      <th>C</th>\n",
       "      <td>1.502449</td>\n",
       "      <td>0.879649</td>\n",
       "      <td>0.879736</td>\n",
       "      <td>1.545336</td>\n",
       "    </tr>\n",
       "    <tr>\n",
       "      <th>D</th>\n",
       "      <td>1.441365</td>\n",
       "      <td>1.011843</td>\n",
       "      <td>-1.631744</td>\n",
       "      <td>-0.450110</td>\n",
       "    </tr>\n",
       "    <tr>\n",
       "      <th>E</th>\n",
       "      <td>0.916184</td>\n",
       "      <td>-1.483595</td>\n",
       "      <td>0.824921</td>\n",
       "      <td>-0.431938</td>\n",
       "    </tr>\n",
       "  </tbody>\n",
       "</table>\n",
       "</div>"
      ],
      "text/plain": [
       "          w         x         y         z\n",
       "A -0.899907 -0.753668  0.249725  0.593019\n",
       "B -0.918375 -1.035986 -0.182251  0.204457\n",
       "C  1.502449  0.879649  0.879736  1.545336\n",
       "D  1.441365  1.011843 -1.631744 -0.450110\n",
       "E  0.916184 -1.483595  0.824921 -0.431938"
      ]
     },
     "execution_count": 6,
     "metadata": {},
     "output_type": "execute_result"
    }
   ],
   "source": [
    "df"
   ]
  },
  {
   "cell_type": "code",
   "execution_count": 7,
   "id": "ec55ce30-da6f-48b2-a46f-2fbe2ee19682",
   "metadata": {},
   "outputs": [
    {
     "data": {
      "text/plain": [
       "pandas.core.frame.DataFrame"
      ]
     },
     "execution_count": 7,
     "metadata": {},
     "output_type": "execute_result"
    }
   ],
   "source": [
    "type(df)"
   ]
  },
  {
   "cell_type": "markdown",
   "id": "ab1709ec-b9c7-49fe-879f-36392a1e3357",
   "metadata": {},
   "source": [
    "## Pegando colunas selecionadas"
   ]
  },
  {
   "cell_type": "code",
   "execution_count": 9,
   "id": "9e26244b-fd4f-4cb5-963c-3f1dfe351799",
   "metadata": {},
   "outputs": [
    {
     "data": {
      "text/plain": [
       "A   -0.899907\n",
       "B   -0.918375\n",
       "C    1.502449\n",
       "D    1.441365\n",
       "E    0.916184\n",
       "Name: w, dtype: float64"
      ]
     },
     "execution_count": 9,
     "metadata": {},
     "output_type": "execute_result"
    }
   ],
   "source": [
    "df[\"w\"]"
   ]
  },
  {
   "cell_type": "code",
   "execution_count": 10,
   "id": "d577c363-55e4-4e4d-a397-73e3df77c131",
   "metadata": {
    "scrolled": true
   },
   "outputs": [
    {
     "data": {
      "text/html": [
       "<div>\n",
       "<style scoped>\n",
       "    .dataframe tbody tr th:only-of-type {\n",
       "        vertical-align: middle;\n",
       "    }\n",
       "\n",
       "    .dataframe tbody tr th {\n",
       "        vertical-align: top;\n",
       "    }\n",
       "\n",
       "    .dataframe thead th {\n",
       "        text-align: right;\n",
       "    }\n",
       "</style>\n",
       "<table border=\"1\" class=\"dataframe\">\n",
       "  <thead>\n",
       "    <tr style=\"text-align: right;\">\n",
       "      <th></th>\n",
       "      <th>w</th>\n",
       "      <th>y</th>\n",
       "    </tr>\n",
       "  </thead>\n",
       "  <tbody>\n",
       "    <tr>\n",
       "      <th>A</th>\n",
       "      <td>-0.899907</td>\n",
       "      <td>0.249725</td>\n",
       "    </tr>\n",
       "    <tr>\n",
       "      <th>B</th>\n",
       "      <td>-0.918375</td>\n",
       "      <td>-0.182251</td>\n",
       "    </tr>\n",
       "    <tr>\n",
       "      <th>C</th>\n",
       "      <td>1.502449</td>\n",
       "      <td>0.879736</td>\n",
       "    </tr>\n",
       "    <tr>\n",
       "      <th>D</th>\n",
       "      <td>1.441365</td>\n",
       "      <td>-1.631744</td>\n",
       "    </tr>\n",
       "    <tr>\n",
       "      <th>E</th>\n",
       "      <td>0.916184</td>\n",
       "      <td>0.824921</td>\n",
       "    </tr>\n",
       "  </tbody>\n",
       "</table>\n",
       "</div>"
      ],
      "text/plain": [
       "          w         y\n",
       "A -0.899907  0.249725\n",
       "B -0.918375 -0.182251\n",
       "C  1.502449  0.879736\n",
       "D  1.441365 -1.631744\n",
       "E  0.916184  0.824921"
      ]
     },
     "execution_count": 10,
     "metadata": {},
     "output_type": "execute_result"
    }
   ],
   "source": [
    "df[[\"w\",\"y\"]]"
   ]
  },
  {
   "cell_type": "markdown",
   "id": "61fda53d-d6b3-4dff-b71c-763bf8801b7d",
   "metadata": {},
   "source": [
    "## Adicionando uma coluna  com o valor de soma de outras duas"
   ]
  },
  {
   "cell_type": "code",
   "execution_count": 12,
   "id": "e131035a-1d2d-496b-b946-19fcdf770b25",
   "metadata": {},
   "outputs": [],
   "source": [
    "df[\"new\"] = df['w'] + df['y']"
   ]
  },
  {
   "cell_type": "code",
   "execution_count": 13,
   "id": "1572d537-2513-4cf2-99bd-7c1c892f821f",
   "metadata": {},
   "outputs": [
    {
     "data": {
      "text/html": [
       "<div>\n",
       "<style scoped>\n",
       "    .dataframe tbody tr th:only-of-type {\n",
       "        vertical-align: middle;\n",
       "    }\n",
       "\n",
       "    .dataframe tbody tr th {\n",
       "        vertical-align: top;\n",
       "    }\n",
       "\n",
       "    .dataframe thead th {\n",
       "        text-align: right;\n",
       "    }\n",
       "</style>\n",
       "<table border=\"1\" class=\"dataframe\">\n",
       "  <thead>\n",
       "    <tr style=\"text-align: right;\">\n",
       "      <th></th>\n",
       "      <th>w</th>\n",
       "      <th>x</th>\n",
       "      <th>y</th>\n",
       "      <th>z</th>\n",
       "      <th>new</th>\n",
       "    </tr>\n",
       "  </thead>\n",
       "  <tbody>\n",
       "    <tr>\n",
       "      <th>A</th>\n",
       "      <td>-0.899907</td>\n",
       "      <td>-0.753668</td>\n",
       "      <td>0.249725</td>\n",
       "      <td>0.593019</td>\n",
       "      <td>-0.650183</td>\n",
       "    </tr>\n",
       "    <tr>\n",
       "      <th>B</th>\n",
       "      <td>-0.918375</td>\n",
       "      <td>-1.035986</td>\n",
       "      <td>-0.182251</td>\n",
       "      <td>0.204457</td>\n",
       "      <td>-1.100626</td>\n",
       "    </tr>\n",
       "    <tr>\n",
       "      <th>C</th>\n",
       "      <td>1.502449</td>\n",
       "      <td>0.879649</td>\n",
       "      <td>0.879736</td>\n",
       "      <td>1.545336</td>\n",
       "      <td>2.382185</td>\n",
       "    </tr>\n",
       "    <tr>\n",
       "      <th>D</th>\n",
       "      <td>1.441365</td>\n",
       "      <td>1.011843</td>\n",
       "      <td>-1.631744</td>\n",
       "      <td>-0.450110</td>\n",
       "      <td>-0.190379</td>\n",
       "    </tr>\n",
       "    <tr>\n",
       "      <th>E</th>\n",
       "      <td>0.916184</td>\n",
       "      <td>-1.483595</td>\n",
       "      <td>0.824921</td>\n",
       "      <td>-0.431938</td>\n",
       "      <td>1.741105</td>\n",
       "    </tr>\n",
       "  </tbody>\n",
       "</table>\n",
       "</div>"
      ],
      "text/plain": [
       "          w         x         y         z       new\n",
       "A -0.899907 -0.753668  0.249725  0.593019 -0.650183\n",
       "B -0.918375 -1.035986 -0.182251  0.204457 -1.100626\n",
       "C  1.502449  0.879649  0.879736  1.545336  2.382185\n",
       "D  1.441365  1.011843 -1.631744 -0.450110 -0.190379\n",
       "E  0.916184 -1.483595  0.824921 -0.431938  1.741105"
      ]
     },
     "execution_count": 13,
     "metadata": {},
     "output_type": "execute_result"
    }
   ],
   "source": [
    "df"
   ]
  },
  {
   "cell_type": "markdown",
   "id": "1fb322ba-00ab-43a0-8939-fd70462d1566",
   "metadata": {},
   "source": [
    "## apagando uma coluna"
   ]
  },
  {
   "cell_type": "code",
   "execution_count": 15,
   "id": "6f147090-7842-46dd-8dca-71b255355510",
   "metadata": {},
   "outputs": [],
   "source": [
    "del df[\"new\"]"
   ]
  },
  {
   "cell_type": "code",
   "execution_count": 16,
   "id": "c694b21f-35cd-41ea-bdcd-65eccc0358c1",
   "metadata": {},
   "outputs": [
    {
     "data": {
      "text/html": [
       "<div>\n",
       "<style scoped>\n",
       "    .dataframe tbody tr th:only-of-type {\n",
       "        vertical-align: middle;\n",
       "    }\n",
       "\n",
       "    .dataframe tbody tr th {\n",
       "        vertical-align: top;\n",
       "    }\n",
       "\n",
       "    .dataframe thead th {\n",
       "        text-align: right;\n",
       "    }\n",
       "</style>\n",
       "<table border=\"1\" class=\"dataframe\">\n",
       "  <thead>\n",
       "    <tr style=\"text-align: right;\">\n",
       "      <th></th>\n",
       "      <th>w</th>\n",
       "      <th>x</th>\n",
       "      <th>y</th>\n",
       "      <th>z</th>\n",
       "    </tr>\n",
       "  </thead>\n",
       "  <tbody>\n",
       "    <tr>\n",
       "      <th>A</th>\n",
       "      <td>-0.899907</td>\n",
       "      <td>-0.753668</td>\n",
       "      <td>0.249725</td>\n",
       "      <td>0.593019</td>\n",
       "    </tr>\n",
       "    <tr>\n",
       "      <th>B</th>\n",
       "      <td>-0.918375</td>\n",
       "      <td>-1.035986</td>\n",
       "      <td>-0.182251</td>\n",
       "      <td>0.204457</td>\n",
       "    </tr>\n",
       "    <tr>\n",
       "      <th>C</th>\n",
       "      <td>1.502449</td>\n",
       "      <td>0.879649</td>\n",
       "      <td>0.879736</td>\n",
       "      <td>1.545336</td>\n",
       "    </tr>\n",
       "    <tr>\n",
       "      <th>D</th>\n",
       "      <td>1.441365</td>\n",
       "      <td>1.011843</td>\n",
       "      <td>-1.631744</td>\n",
       "      <td>-0.450110</td>\n",
       "    </tr>\n",
       "    <tr>\n",
       "      <th>E</th>\n",
       "      <td>0.916184</td>\n",
       "      <td>-1.483595</td>\n",
       "      <td>0.824921</td>\n",
       "      <td>-0.431938</td>\n",
       "    </tr>\n",
       "  </tbody>\n",
       "</table>\n",
       "</div>"
      ],
      "text/plain": [
       "          w         x         y         z\n",
       "A -0.899907 -0.753668  0.249725  0.593019\n",
       "B -0.918375 -1.035986 -0.182251  0.204457\n",
       "C  1.502449  0.879649  0.879736  1.545336\n",
       "D  1.441365  1.011843 -1.631744 -0.450110\n",
       "E  0.916184 -1.483595  0.824921 -0.431938"
      ]
     },
     "execution_count": 16,
     "metadata": {},
     "output_type": "execute_result"
    }
   ],
   "source": [
    "df"
   ]
  },
  {
   "cell_type": "markdown",
   "id": "6c9b4ded-06de-4dce-b8d5-f652cd96133f",
   "metadata": {},
   "source": [
    "## Selecionando uma ou mais linhas"
   ]
  },
  {
   "cell_type": "code",
   "execution_count": 18,
   "id": "ec8dce9b-5d64-4c9e-addb-2eb62eb74536",
   "metadata": {},
   "outputs": [
    {
     "data": {
      "text/plain": [
       "w   -0.899907\n",
       "x   -0.753668\n",
       "y    0.249725\n",
       "z    0.593019\n",
       "Name: A, dtype: float64"
      ]
     },
     "execution_count": 18,
     "metadata": {},
     "output_type": "execute_result"
    }
   ],
   "source": [
    "df.loc[\"A\"]"
   ]
  },
  {
   "cell_type": "code",
   "execution_count": 19,
   "id": "e7badd9b-b79c-461f-9681-c2fba88b5896",
   "metadata": {},
   "outputs": [
    {
     "data": {
      "text/html": [
       "<div>\n",
       "<style scoped>\n",
       "    .dataframe tbody tr th:only-of-type {\n",
       "        vertical-align: middle;\n",
       "    }\n",
       "\n",
       "    .dataframe tbody tr th {\n",
       "        vertical-align: top;\n",
       "    }\n",
       "\n",
       "    .dataframe thead th {\n",
       "        text-align: right;\n",
       "    }\n",
       "</style>\n",
       "<table border=\"1\" class=\"dataframe\">\n",
       "  <thead>\n",
       "    <tr style=\"text-align: right;\">\n",
       "      <th></th>\n",
       "      <th>w</th>\n",
       "      <th>x</th>\n",
       "      <th>y</th>\n",
       "      <th>z</th>\n",
       "    </tr>\n",
       "  </thead>\n",
       "  <tbody>\n",
       "    <tr>\n",
       "      <th>A</th>\n",
       "      <td>-0.899907</td>\n",
       "      <td>-0.753668</td>\n",
       "      <td>0.249725</td>\n",
       "      <td>0.593019</td>\n",
       "    </tr>\n",
       "    <tr>\n",
       "      <th>B</th>\n",
       "      <td>-0.918375</td>\n",
       "      <td>-1.035986</td>\n",
       "      <td>-0.182251</td>\n",
       "      <td>0.204457</td>\n",
       "    </tr>\n",
       "  </tbody>\n",
       "</table>\n",
       "</div>"
      ],
      "text/plain": [
       "          w         x         y         z\n",
       "A -0.899907 -0.753668  0.249725  0.593019\n",
       "B -0.918375 -1.035986 -0.182251  0.204457"
      ]
     },
     "execution_count": 19,
     "metadata": {},
     "output_type": "execute_result"
    }
   ],
   "source": [
    "df.loc[[\"A\",\"B\"]]"
   ]
  },
  {
   "cell_type": "markdown",
   "id": "ebd3c2c5-b541-4cff-98bf-ccf0fece8a54",
   "metadata": {},
   "source": [
    "## Selecionando valor específico de uma linha e colunas .iloc[linha,coluna] por inidice"
   ]
  },
  {
   "cell_type": "code",
   "execution_count": 21,
   "id": "9e6954b4-aa7c-4dc2-a74a-01b0c0a3599d",
   "metadata": {},
   "outputs": [
    {
     "data": {
      "text/plain": [
       "-0.899907271085245"
      ]
     },
     "execution_count": 21,
     "metadata": {},
     "output_type": "execute_result"
    }
   ],
   "source": [
    "df.iloc[0,0]"
   ]
  },
  {
   "cell_type": "markdown",
   "id": "5043f2bd-085d-46f6-a61c-9df01c087633",
   "metadata": {},
   "source": [
    "## Selecionando tabela de um ponto até outro\n",
    "**(ele apaga o último número depois do 0:\"0\")** "
   ]
  },
  {
   "cell_type": "code",
   "execution_count": 23,
   "id": "11bb203c-c4fa-428f-96bd-647c7b03a380",
   "metadata": {},
   "outputs": [
    {
     "data": {
      "text/html": [
       "<div>\n",
       "<style scoped>\n",
       "    .dataframe tbody tr th:only-of-type {\n",
       "        vertical-align: middle;\n",
       "    }\n",
       "\n",
       "    .dataframe tbody tr th {\n",
       "        vertical-align: top;\n",
       "    }\n",
       "\n",
       "    .dataframe thead th {\n",
       "        text-align: right;\n",
       "    }\n",
       "</style>\n",
       "<table border=\"1\" class=\"dataframe\">\n",
       "  <thead>\n",
       "    <tr style=\"text-align: right;\">\n",
       "      <th></th>\n",
       "      <th>x</th>\n",
       "      <th>y</th>\n",
       "    </tr>\n",
       "  </thead>\n",
       "  <tbody>\n",
       "    <tr>\n",
       "      <th>B</th>\n",
       "      <td>-1.035986</td>\n",
       "      <td>-0.182251</td>\n",
       "    </tr>\n",
       "    <tr>\n",
       "      <th>C</th>\n",
       "      <td>0.879649</td>\n",
       "      <td>0.879736</td>\n",
       "    </tr>\n",
       "    <tr>\n",
       "      <th>D</th>\n",
       "      <td>1.011843</td>\n",
       "      <td>-1.631744</td>\n",
       "    </tr>\n",
       "  </tbody>\n",
       "</table>\n",
       "</div>"
      ],
      "text/plain": [
       "          x         y\n",
       "B -1.035986 -0.182251\n",
       "C  0.879649  0.879736\n",
       "D  1.011843 -1.631744"
      ]
     },
     "execution_count": 23,
     "metadata": {},
     "output_type": "execute_result"
    }
   ],
   "source": [
    "df.iloc[1:4, 1:3]"
   ]
  },
  {
   "cell_type": "markdown",
   "id": "2652b9ee-395b-49f9-aae2-4095af08e71a",
   "metadata": {},
   "source": [
    "## Mais detalhes do índice"
   ]
  },
  {
   "cell_type": "code",
   "execution_count": 25,
   "id": "2b56ab4a-665f-4e14-8ad4-dcc415c2ed8f",
   "metadata": {
    "scrolled": true
   },
   "outputs": [
    {
     "data": {
      "text/plain": [
       "Index(['A', 'B', 'C', 'D', 'E'], dtype='object')"
      ]
     },
     "execution_count": 25,
     "metadata": {},
     "output_type": "execute_result"
    }
   ],
   "source": [
    "df.index"
   ]
  },
  {
   "cell_type": "code",
   "execution_count": 26,
   "id": "d7acf9bc-13cc-4a5e-a457-09a7cceeb6c8",
   "metadata": {},
   "outputs": [
    {
     "data": {
      "text/plain": [
       "Index(['w', 'x', 'y', 'z'], dtype='object')"
      ]
     },
     "execution_count": 26,
     "metadata": {},
     "output_type": "execute_result"
    }
   ],
   "source": [
    "df.columns"
   ]
  },
  {
   "cell_type": "code",
   "execution_count": null,
   "id": "5f03ee10-ea25-472d-8f44-9954167bf010",
   "metadata": {},
   "outputs": [],
   "source": []
  }
 ],
 "metadata": {
  "kernelspec": {
   "display_name": "Python 3 (ipykernel)",
   "language": "python",
   "name": "python3"
  },
  "language_info": {
   "codemirror_mode": {
    "name": "ipython",
    "version": 3
   },
   "file_extension": ".py",
   "mimetype": "text/x-python",
   "name": "python",
   "nbconvert_exporter": "python",
   "pygments_lexer": "ipython3",
   "version": "3.12.4"
  }
 },
 "nbformat": 4,
 "nbformat_minor": 5
}
