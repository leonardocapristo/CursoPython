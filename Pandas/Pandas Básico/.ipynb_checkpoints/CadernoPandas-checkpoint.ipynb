{
 "cells": [
  {
   "cell_type": "code",
   "execution_count": 1,
   "id": "90f036e9-3a57-45cc-8465-c01050bc3e02",
   "metadata": {},
   "outputs": [],
   "source": [
    "from numpy.random import randn\n",
    "import pandas as pd"
   ]
  },
  {
   "cell_type": "markdown",
   "id": "1251e7fc-4605-4720-b6e0-efd3aa1f5a53",
   "metadata": {},
   "source": [
    "## Criando Dataframe (não é importante)"
   ]
  },
  {
   "cell_type": "code",
   "execution_count": 4,
   "id": "74ca6736-7a6c-44d6-b4da-0faf11641b16",
   "metadata": {},
   "outputs": [],
   "source": [
    "df = pd.DataFrame(randn(5, 4), index=[\"A\", \"B\", \"C\", \"D\", \"E\"], columns=\"w x y z\".split())\n"
   ]
  },
  {
   "cell_type": "code",
   "execution_count": 6,
   "id": "b554d734-aa6e-41c0-9fed-576db9b7e396",
   "metadata": {},
   "outputs": [
    {
     "data": {
      "text/html": [
       "<div>\n",
       "<style scoped>\n",
       "    .dataframe tbody tr th:only-of-type {\n",
       "        vertical-align: middle;\n",
       "    }\n",
       "\n",
       "    .dataframe tbody tr th {\n",
       "        vertical-align: top;\n",
       "    }\n",
       "\n",
       "    .dataframe thead th {\n",
       "        text-align: right;\n",
       "    }\n",
       "</style>\n",
       "<table border=\"1\" class=\"dataframe\">\n",
       "  <thead>\n",
       "    <tr style=\"text-align: right;\">\n",
       "      <th></th>\n",
       "      <th>w</th>\n",
       "      <th>x</th>\n",
       "      <th>y</th>\n",
       "      <th>z</th>\n",
       "    </tr>\n",
       "  </thead>\n",
       "  <tbody>\n",
       "    <tr>\n",
       "      <th>A</th>\n",
       "      <td>0.342443</td>\n",
       "      <td>-1.406543</td>\n",
       "      <td>-0.379236</td>\n",
       "      <td>-0.082196</td>\n",
       "    </tr>\n",
       "    <tr>\n",
       "      <th>B</th>\n",
       "      <td>-0.939109</td>\n",
       "      <td>1.200476</td>\n",
       "      <td>1.790046</td>\n",
       "      <td>0.510648</td>\n",
       "    </tr>\n",
       "    <tr>\n",
       "      <th>C</th>\n",
       "      <td>-0.980991</td>\n",
       "      <td>1.832768</td>\n",
       "      <td>-0.577031</td>\n",
       "      <td>0.429309</td>\n",
       "    </tr>\n",
       "    <tr>\n",
       "      <th>D</th>\n",
       "      <td>-0.428947</td>\n",
       "      <td>0.729016</td>\n",
       "      <td>0.269669</td>\n",
       "      <td>0.794761</td>\n",
       "    </tr>\n",
       "    <tr>\n",
       "      <th>E</th>\n",
       "      <td>0.022029</td>\n",
       "      <td>0.657931</td>\n",
       "      <td>1.837776</td>\n",
       "      <td>0.705714</td>\n",
       "    </tr>\n",
       "  </tbody>\n",
       "</table>\n",
       "</div>"
      ],
      "text/plain": [
       "          w         x         y         z\n",
       "A  0.342443 -1.406543 -0.379236 -0.082196\n",
       "B -0.939109  1.200476  1.790046  0.510648\n",
       "C -0.980991  1.832768 -0.577031  0.429309\n",
       "D -0.428947  0.729016  0.269669  0.794761\n",
       "E  0.022029  0.657931  1.837776  0.705714"
      ]
     },
     "execution_count": 6,
     "metadata": {},
     "output_type": "execute_result"
    }
   ],
   "source": [
    "df"
   ]
  },
  {
   "cell_type": "code",
   "execution_count": 8,
   "id": "ec55ce30-da6f-48b2-a46f-2fbe2ee19682",
   "metadata": {},
   "outputs": [
    {
     "data": {
      "text/plain": [
       "pandas.core.frame.DataFrame"
      ]
     },
     "execution_count": 8,
     "metadata": {},
     "output_type": "execute_result"
    }
   ],
   "source": [
    "type(df)"
   ]
  },
  {
   "cell_type": "markdown",
   "id": "ab1709ec-b9c7-49fe-879f-36392a1e3357",
   "metadata": {},
   "source": [
    "## Pegando colunas selecionadas"
   ]
  },
  {
   "cell_type": "code",
   "execution_count": 11,
   "id": "9e26244b-fd4f-4cb5-963c-3f1dfe351799",
   "metadata": {},
   "outputs": [
    {
     "data": {
      "text/plain": [
       "A    0.342443\n",
       "B   -0.939109\n",
       "C   -0.980991\n",
       "D   -0.428947\n",
       "E    0.022029\n",
       "Name: w, dtype: float64"
      ]
     },
     "execution_count": 11,
     "metadata": {},
     "output_type": "execute_result"
    }
   ],
   "source": [
    "df[\"w\"]"
   ]
  },
  {
   "cell_type": "code",
   "execution_count": 13,
   "id": "d577c363-55e4-4e4d-a397-73e3df77c131",
   "metadata": {
    "scrolled": true
   },
   "outputs": [
    {
     "data": {
      "text/html": [
       "<div>\n",
       "<style scoped>\n",
       "    .dataframe tbody tr th:only-of-type {\n",
       "        vertical-align: middle;\n",
       "    }\n",
       "\n",
       "    .dataframe tbody tr th {\n",
       "        vertical-align: top;\n",
       "    }\n",
       "\n",
       "    .dataframe thead th {\n",
       "        text-align: right;\n",
       "    }\n",
       "</style>\n",
       "<table border=\"1\" class=\"dataframe\">\n",
       "  <thead>\n",
       "    <tr style=\"text-align: right;\">\n",
       "      <th></th>\n",
       "      <th>w</th>\n",
       "      <th>y</th>\n",
       "    </tr>\n",
       "  </thead>\n",
       "  <tbody>\n",
       "    <tr>\n",
       "      <th>A</th>\n",
       "      <td>0.342443</td>\n",
       "      <td>-0.379236</td>\n",
       "    </tr>\n",
       "    <tr>\n",
       "      <th>B</th>\n",
       "      <td>-0.939109</td>\n",
       "      <td>1.790046</td>\n",
       "    </tr>\n",
       "    <tr>\n",
       "      <th>C</th>\n",
       "      <td>-0.980991</td>\n",
       "      <td>-0.577031</td>\n",
       "    </tr>\n",
       "    <tr>\n",
       "      <th>D</th>\n",
       "      <td>-0.428947</td>\n",
       "      <td>0.269669</td>\n",
       "    </tr>\n",
       "    <tr>\n",
       "      <th>E</th>\n",
       "      <td>0.022029</td>\n",
       "      <td>1.837776</td>\n",
       "    </tr>\n",
       "  </tbody>\n",
       "</table>\n",
       "</div>"
      ],
      "text/plain": [
       "          w         y\n",
       "A  0.342443 -0.379236\n",
       "B -0.939109  1.790046\n",
       "C -0.980991 -0.577031\n",
       "D -0.428947  0.269669\n",
       "E  0.022029  1.837776"
      ]
     },
     "execution_count": 13,
     "metadata": {},
     "output_type": "execute_result"
    }
   ],
   "source": [
    "df[[\"w\",\"y\"]]"
   ]
  },
  {
   "cell_type": "markdown",
   "id": "61fda53d-d6b3-4dff-b71c-763bf8801b7d",
   "metadata": {},
   "source": [
    "## Adicionando uma coluna  com o valor de soma de outras duas"
   ]
  },
  {
   "cell_type": "code",
   "execution_count": 16,
   "id": "e131035a-1d2d-496b-b946-19fcdf770b25",
   "metadata": {},
   "outputs": [],
   "source": [
    "df[\"new\"] = df['w'] + df['y']"
   ]
  },
  {
   "cell_type": "code",
   "execution_count": 18,
   "id": "1572d537-2513-4cf2-99bd-7c1c892f821f",
   "metadata": {},
   "outputs": [
    {
     "data": {
      "text/html": [
       "<div>\n",
       "<style scoped>\n",
       "    .dataframe tbody tr th:only-of-type {\n",
       "        vertical-align: middle;\n",
       "    }\n",
       "\n",
       "    .dataframe tbody tr th {\n",
       "        vertical-align: top;\n",
       "    }\n",
       "\n",
       "    .dataframe thead th {\n",
       "        text-align: right;\n",
       "    }\n",
       "</style>\n",
       "<table border=\"1\" class=\"dataframe\">\n",
       "  <thead>\n",
       "    <tr style=\"text-align: right;\">\n",
       "      <th></th>\n",
       "      <th>w</th>\n",
       "      <th>x</th>\n",
       "      <th>y</th>\n",
       "      <th>z</th>\n",
       "      <th>new</th>\n",
       "    </tr>\n",
       "  </thead>\n",
       "  <tbody>\n",
       "    <tr>\n",
       "      <th>A</th>\n",
       "      <td>0.342443</td>\n",
       "      <td>-1.406543</td>\n",
       "      <td>-0.379236</td>\n",
       "      <td>-0.082196</td>\n",
       "      <td>-0.036793</td>\n",
       "    </tr>\n",
       "    <tr>\n",
       "      <th>B</th>\n",
       "      <td>-0.939109</td>\n",
       "      <td>1.200476</td>\n",
       "      <td>1.790046</td>\n",
       "      <td>0.510648</td>\n",
       "      <td>0.850936</td>\n",
       "    </tr>\n",
       "    <tr>\n",
       "      <th>C</th>\n",
       "      <td>-0.980991</td>\n",
       "      <td>1.832768</td>\n",
       "      <td>-0.577031</td>\n",
       "      <td>0.429309</td>\n",
       "      <td>-1.558022</td>\n",
       "    </tr>\n",
       "    <tr>\n",
       "      <th>D</th>\n",
       "      <td>-0.428947</td>\n",
       "      <td>0.729016</td>\n",
       "      <td>0.269669</td>\n",
       "      <td>0.794761</td>\n",
       "      <td>-0.159278</td>\n",
       "    </tr>\n",
       "    <tr>\n",
       "      <th>E</th>\n",
       "      <td>0.022029</td>\n",
       "      <td>0.657931</td>\n",
       "      <td>1.837776</td>\n",
       "      <td>0.705714</td>\n",
       "      <td>1.859805</td>\n",
       "    </tr>\n",
       "  </tbody>\n",
       "</table>\n",
       "</div>"
      ],
      "text/plain": [
       "          w         x         y         z       new\n",
       "A  0.342443 -1.406543 -0.379236 -0.082196 -0.036793\n",
       "B -0.939109  1.200476  1.790046  0.510648  0.850936\n",
       "C -0.980991  1.832768 -0.577031  0.429309 -1.558022\n",
       "D -0.428947  0.729016  0.269669  0.794761 -0.159278\n",
       "E  0.022029  0.657931  1.837776  0.705714  1.859805"
      ]
     },
     "execution_count": 18,
     "metadata": {},
     "output_type": "execute_result"
    }
   ],
   "source": [
    "df"
   ]
  },
  {
   "cell_type": "markdown",
   "id": "1fb322ba-00ab-43a0-8939-fd70462d1566",
   "metadata": {},
   "source": [
    "## apagando uma coluna"
   ]
  },
  {
   "cell_type": "code",
   "execution_count": 21,
   "id": "6f147090-7842-46dd-8dca-71b255355510",
   "metadata": {},
   "outputs": [],
   "source": [
    "del df[\"new\"]"
   ]
  },
  {
   "cell_type": "code",
   "execution_count": 23,
   "id": "c694b21f-35cd-41ea-bdcd-65eccc0358c1",
   "metadata": {},
   "outputs": [
    {
     "data": {
      "text/html": [
       "<div>\n",
       "<style scoped>\n",
       "    .dataframe tbody tr th:only-of-type {\n",
       "        vertical-align: middle;\n",
       "    }\n",
       "\n",
       "    .dataframe tbody tr th {\n",
       "        vertical-align: top;\n",
       "    }\n",
       "\n",
       "    .dataframe thead th {\n",
       "        text-align: right;\n",
       "    }\n",
       "</style>\n",
       "<table border=\"1\" class=\"dataframe\">\n",
       "  <thead>\n",
       "    <tr style=\"text-align: right;\">\n",
       "      <th></th>\n",
       "      <th>w</th>\n",
       "      <th>x</th>\n",
       "      <th>y</th>\n",
       "      <th>z</th>\n",
       "    </tr>\n",
       "  </thead>\n",
       "  <tbody>\n",
       "    <tr>\n",
       "      <th>A</th>\n",
       "      <td>0.342443</td>\n",
       "      <td>-1.406543</td>\n",
       "      <td>-0.379236</td>\n",
       "      <td>-0.082196</td>\n",
       "    </tr>\n",
       "    <tr>\n",
       "      <th>B</th>\n",
       "      <td>-0.939109</td>\n",
       "      <td>1.200476</td>\n",
       "      <td>1.790046</td>\n",
       "      <td>0.510648</td>\n",
       "    </tr>\n",
       "    <tr>\n",
       "      <th>C</th>\n",
       "      <td>-0.980991</td>\n",
       "      <td>1.832768</td>\n",
       "      <td>-0.577031</td>\n",
       "      <td>0.429309</td>\n",
       "    </tr>\n",
       "    <tr>\n",
       "      <th>D</th>\n",
       "      <td>-0.428947</td>\n",
       "      <td>0.729016</td>\n",
       "      <td>0.269669</td>\n",
       "      <td>0.794761</td>\n",
       "    </tr>\n",
       "    <tr>\n",
       "      <th>E</th>\n",
       "      <td>0.022029</td>\n",
       "      <td>0.657931</td>\n",
       "      <td>1.837776</td>\n",
       "      <td>0.705714</td>\n",
       "    </tr>\n",
       "  </tbody>\n",
       "</table>\n",
       "</div>"
      ],
      "text/plain": [
       "          w         x         y         z\n",
       "A  0.342443 -1.406543 -0.379236 -0.082196\n",
       "B -0.939109  1.200476  1.790046  0.510648\n",
       "C -0.980991  1.832768 -0.577031  0.429309\n",
       "D -0.428947  0.729016  0.269669  0.794761\n",
       "E  0.022029  0.657931  1.837776  0.705714"
      ]
     },
     "execution_count": 23,
     "metadata": {},
     "output_type": "execute_result"
    }
   ],
   "source": [
    "df"
   ]
  },
  {
   "cell_type": "markdown",
   "id": "6c9b4ded-06de-4dce-b8d5-f652cd96133f",
   "metadata": {},
   "source": [
    "## Selecionando uma ou mais linhas"
   ]
  },
  {
   "cell_type": "code",
   "execution_count": 26,
   "id": "ec8dce9b-5d64-4c9e-addb-2eb62eb74536",
   "metadata": {},
   "outputs": [
    {
     "data": {
      "text/plain": [
       "w    0.342443\n",
       "x   -1.406543\n",
       "y   -0.379236\n",
       "z   -0.082196\n",
       "Name: A, dtype: float64"
      ]
     },
     "execution_count": 26,
     "metadata": {},
     "output_type": "execute_result"
    }
   ],
   "source": [
    "df.loc[\"A\"]"
   ]
  },
  {
   "cell_type": "code",
   "execution_count": 28,
   "id": "e7badd9b-b79c-461f-9681-c2fba88b5896",
   "metadata": {},
   "outputs": [
    {
     "data": {
      "text/html": [
       "<div>\n",
       "<style scoped>\n",
       "    .dataframe tbody tr th:only-of-type {\n",
       "        vertical-align: middle;\n",
       "    }\n",
       "\n",
       "    .dataframe tbody tr th {\n",
       "        vertical-align: top;\n",
       "    }\n",
       "\n",
       "    .dataframe thead th {\n",
       "        text-align: right;\n",
       "    }\n",
       "</style>\n",
       "<table border=\"1\" class=\"dataframe\">\n",
       "  <thead>\n",
       "    <tr style=\"text-align: right;\">\n",
       "      <th></th>\n",
       "      <th>w</th>\n",
       "      <th>x</th>\n",
       "      <th>y</th>\n",
       "      <th>z</th>\n",
       "    </tr>\n",
       "  </thead>\n",
       "  <tbody>\n",
       "    <tr>\n",
       "      <th>A</th>\n",
       "      <td>0.342443</td>\n",
       "      <td>-1.406543</td>\n",
       "      <td>-0.379236</td>\n",
       "      <td>-0.082196</td>\n",
       "    </tr>\n",
       "    <tr>\n",
       "      <th>B</th>\n",
       "      <td>-0.939109</td>\n",
       "      <td>1.200476</td>\n",
       "      <td>1.790046</td>\n",
       "      <td>0.510648</td>\n",
       "    </tr>\n",
       "  </tbody>\n",
       "</table>\n",
       "</div>"
      ],
      "text/plain": [
       "          w         x         y         z\n",
       "A  0.342443 -1.406543 -0.379236 -0.082196\n",
       "B -0.939109  1.200476  1.790046  0.510648"
      ]
     },
     "execution_count": 28,
     "metadata": {},
     "output_type": "execute_result"
    }
   ],
   "source": [
    "df.loc[[\"A\",\"B\"]]"
   ]
  },
  {
   "cell_type": "markdown",
   "id": "ebd3c2c5-b541-4cff-98bf-ccf0fece8a54",
   "metadata": {},
   "source": [
    "## Selecionando valor específico de uma linha e colunas .iloc[linha,coluna] por inidice"
   ]
  },
  {
   "cell_type": "code",
   "execution_count": 31,
   "id": "9e6954b4-aa7c-4dc2-a74a-01b0c0a3599d",
   "metadata": {},
   "outputs": [
    {
     "data": {
      "text/plain": [
       "0.34244307885367997"
      ]
     },
     "execution_count": 31,
     "metadata": {},
     "output_type": "execute_result"
    }
   ],
   "source": [
    "df.iloc[0,0]"
   ]
  },
  {
   "cell_type": "markdown",
   "id": "5043f2bd-085d-46f6-a61c-9df01c087633",
   "metadata": {},
   "source": [
    "## Selecionando tabela de um ponto até outro\n",
    "**(ele apaga o último número depois do 0:\"0\")** "
   ]
  },
  {
   "cell_type": "code",
   "execution_count": 34,
   "id": "11bb203c-c4fa-428f-96bd-647c7b03a380",
   "metadata": {},
   "outputs": [
    {
     "data": {
      "text/html": [
       "<div>\n",
       "<style scoped>\n",
       "    .dataframe tbody tr th:only-of-type {\n",
       "        vertical-align: middle;\n",
       "    }\n",
       "\n",
       "    .dataframe tbody tr th {\n",
       "        vertical-align: top;\n",
       "    }\n",
       "\n",
       "    .dataframe thead th {\n",
       "        text-align: right;\n",
       "    }\n",
       "</style>\n",
       "<table border=\"1\" class=\"dataframe\">\n",
       "  <thead>\n",
       "    <tr style=\"text-align: right;\">\n",
       "      <th></th>\n",
       "      <th>x</th>\n",
       "      <th>y</th>\n",
       "    </tr>\n",
       "  </thead>\n",
       "  <tbody>\n",
       "    <tr>\n",
       "      <th>B</th>\n",
       "      <td>1.200476</td>\n",
       "      <td>1.790046</td>\n",
       "    </tr>\n",
       "    <tr>\n",
       "      <th>C</th>\n",
       "      <td>1.832768</td>\n",
       "      <td>-0.577031</td>\n",
       "    </tr>\n",
       "    <tr>\n",
       "      <th>D</th>\n",
       "      <td>0.729016</td>\n",
       "      <td>0.269669</td>\n",
       "    </tr>\n",
       "  </tbody>\n",
       "</table>\n",
       "</div>"
      ],
      "text/plain": [
       "          x         y\n",
       "B  1.200476  1.790046\n",
       "C  1.832768 -0.577031\n",
       "D  0.729016  0.269669"
      ]
     },
     "execution_count": 34,
     "metadata": {},
     "output_type": "execute_result"
    }
   ],
   "source": [
    "df.iloc[1:4, 1:3]"
   ]
  },
  {
   "cell_type": "code",
   "execution_count": null,
   "id": "5061836d-cab6-4d34-bb14-cc4d6b190d80",
   "metadata": {},
   "outputs": [],
   "source": []
  }
 ],
 "metadata": {
  "kernelspec": {
   "display_name": "Python 3 (ipykernel)",
   "language": "python",
   "name": "python3"
  },
  "language_info": {
   "codemirror_mode": {
    "name": "ipython",
    "version": 3
   },
   "file_extension": ".py",
   "mimetype": "text/x-python",
   "name": "python",
   "nbconvert_exporter": "python",
   "pygments_lexer": "ipython3",
   "version": "3.12.4"
  }
 },
 "nbformat": 4,
 "nbformat_minor": 5
}
